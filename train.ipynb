{
 "cells": [
  {
   "cell_type": "code",
   "execution_count": null,
   "metadata": {},
   "outputs": [],
   "source": [
    "from model import MAE\n",
    "import torch\n",
    "from utils import train, test, tdlr, vdlr, get_cosine_schedule_with_warmup\n",
    "\n",
    "model = MAE()\n",
    "model.to('cuda')\n",
    "torch.compile(model)"
   ]
  },
  {
   "cell_type": "code",
   "execution_count": null,
   "metadata": {},
   "outputs": [],
   "source": [
    "max_lr = 1e-4\n",
    "min_lr = 0.1 * max_lr\n",
    "epochs = 100\n",
    "epoch_steps = len(tdlr)\n",
    "gradient_step = 4\n",
    "max_steps = (epoch_steps * epochs)  / gradient_step\n",
    "warmup_steps = (max_steps * 10) // 100\n",
    "optimizer = torch.optim.AdamW(model.parameters(), lr = min_lr, eps=1e-8)\n",
    "sch = get_cosine_schedule_with_warmup(optimizer, warmup_steps, max_steps)\n",
    "loss_fn = torch.nn.MSELoss(reduction='sum')"
   ]
  },
  {
   "cell_type": "code",
   "execution_count": null,
   "metadata": {},
   "outputs": [],
   "source": [
    "for epoch in range(epochs):\n",
    "    \n",
    "    train(model, optimizer, sch, loss_fn, epoch, tdlr)\n",
    "    test(model, loss_fn, epoch, vdlr)\n",
    "\n",
    "torch.save(model.state_dict(), 'output.lol')"
   ]
  }
 ],
 "metadata": {
  "language_info": {
   "name": "python"
  }
 },
 "nbformat": 4,
 "nbformat_minor": 2
}
