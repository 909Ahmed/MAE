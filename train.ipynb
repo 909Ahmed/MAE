{
 "cells": [
  {
   "cell_type": "code",
   "execution_count": null,
   "metadata": {},
   "outputs": [],
   "source": [
    "from model import MAE\n",
    "import torch\n",
    "from utils import train, test, tdlr, vdlr\n",
    "\n",
    "model = MAE()\n",
    "model.to('cuda')"
   ]
  },
  {
   "cell_type": "code",
   "execution_count": null,
   "metadata": {},
   "outputs": [],
   "source": [
    "max_lr = 3 * 1e-3\n",
    "min_lr = 0.1 * max_lr\n",
    "epochs = 100\n",
    "epoch_steps = len(tdlr)\n",
    "gradient_step = 4         #check this shit\n",
    "max_steps = (epoch_steps * epochs) / gradient_step\n",
    "warmup_steps = (max_steps * 20) // 100\n",
    "optimizer = torch.optim.AdamW(model.parameters(), lr = 5e-3, eps=1e-8)\n",
    "loss_fn = torch.nn.MSELoss()"
   ]
  },
  {
   "cell_type": "code",
   "execution_count": null,
   "metadata": {},
   "outputs": [],
   "source": [
    "for epoch in range(epochs):\n",
    "    \n",
    "    train(model, optimizer, loss_fn, epoch, gradient_step, tdlr)\n",
    "    test(model, loss_fn, vdlr)"
   ]
  }
 ],
 "metadata": {
  "language_info": {
   "name": "python"
  }
 },
 "nbformat": 4,
 "nbformat_minor": 2
}
